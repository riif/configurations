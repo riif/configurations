{
 "cells": [
  {
   "cell_type": "code",
   "execution_count": 26,
   "metadata": {},
   "outputs": [
    {
     "name": "stderr",
     "output_type": "stream",
     "text": [
      "C:\\Users\\user\\AppData\\Local\\Temp\\ipykernel_34184\\802464955.py:19: FutureWarning: Passing literal json to 'read_json' is deprecated and will be removed in a future version. To read from a literal string, wrap it in a 'StringIO' object.\n",
      "  df_netsuite =  pd.read_json(dataNetsuite.response)\n"
     ]
    }
   ],
   "source": [
    "import pandas as pd\n",
    "import json\n",
    "import os\n",
    "from NetSuite_Connector.ODBC import ODBC\n",
    "from sqlalchemy import create_engine\n",
    "from dotenv import load_dotenv\n",
    "\n",
    "load_dotenv()\n",
    "\n",
    "try:\n",
    "    connections = ODBC(\n",
    "        account_id=str(os.getenv(\"ACCOUNTID_NETSUITE\")),\n",
    "        user_email=str(os.getenv(\"EMAILID_NETSUITE\")),\n",
    "        role_id=str(os.getenv(\"ROLEID_NETSUITE\")),\n",
    "        dsn=str(os.getenv(\"DSN_NETSUITE_ODBC\")),\n",
    "        password=str(os.getenv(\"PASSWORD_NETSUITE\"))\n",
    "    )\n",
    "    dataNetsuite = connections.query(f\"SELECT * from {str(os.getenv('TABLE_NETSUITE'))}\")\n",
    "    df_netsuite =  pd.read_json(dataNetsuite.response)\n",
    "except (Exception) as e:\n",
    "    print(e)"
   ]
  },
  {
   "cell_type": "code",
   "execution_count": 27,
   "metadata": {},
   "outputs": [
    {
     "name": "stdout",
     "output_type": "stream",
     "text": [
      "Running successfully 1  data to postgres\n"
     ]
    }
   ],
   "source": [
    "try:\n",
    "    engine = create_engine('postgresql+psycopg2://'+str(os.getenv(\"USERNAME_DB_POSTGRE\"))+':'+str(os.getenv(\"PASSWORD_DB_POSTGRE\")) \\\n",
    "                           +'@'+str(os.getenv(\"HOST_NAME_DB_POSTGRE\"))+':'+os.getenv(\"PORT_DB_POSTGRE\")+'/'+str(os.getenv(\"DB_NAME_DB_POSTGRE\")))\n",
    "    df_netsuite.to_sql(str(os.getenv(\"DB_NAME_DB_POSTGRE\")), engine, if_exists='replace', index=False)\n",
    "    print('Running successfully', df_netsuite.shape[0],' data to postgres')\n",
    "except (Exception) as e:\n",
    "    print(e)"
   ]
  }
 ],
 "metadata": {
  "kernelspec": {
   "display_name": "Python 3",
   "language": "python",
   "name": "python3"
  },
  "language_info": {
   "codemirror_mode": {
    "name": "ipython",
    "version": 3
   },
   "file_extension": ".py",
   "mimetype": "text/x-python",
   "name": "python",
   "nbconvert_exporter": "python",
   "pygments_lexer": "ipython3",
   "version": "3.10.8"
  },
  "orig_nbformat": 4
 },
 "nbformat": 4,
 "nbformat_minor": 2
}
